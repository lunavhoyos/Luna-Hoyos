{
  "nbformat": 4,
  "nbformat_minor": 0,
  "metadata": {
    "colab": {
      "provenance": [],
      "authorship_tag": "ABX9TyMGseWuFHAsDK7o0n6uJre2",
      "include_colab_link": true
    },
    "kernelspec": {
      "name": "python3",
      "display_name": "Python 3"
    },
    "language_info": {
      "name": "python"
    }
  },
  "cells": [
    {
      "cell_type": "markdown",
      "metadata": {
        "id": "view-in-github",
        "colab_type": "text"
      },
      "source": [
        "<a href=\"https://colab.research.google.com/github/lunavhoyos/Luna-Hoyos/blob/main/Arreglos.ipynb\" target=\"_parent\"><img src=\"https://colab.research.google.com/assets/colab-badge.svg\" alt=\"Open In Colab\"/></a>"
      ]
    },
    {
      "cell_type": "code",
      "execution_count": null,
      "metadata": {
        "id": "HFt14K3yfnyP"
      },
      "outputs": [],
      "source": [
        "Ejemplos de arreglos\n"
      ]
    },
    {
      "cell_type": "markdown",
      "source": [
        "![image.png](data:image/png;base64,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)\n",
        "\n",
        "\n",
        "\n",
        "Formacion y entendimiento de arreglos\n"
      ],
      "metadata": {
        "id": "vkz00NDdgnBx"
      }
    },
    {
      "cell_type": "code",
      "source": [
        "import numpy as np # np es abreviatura de numpy\n",
        "vector = np.array([1,2,3,4,5]) # Informacion quemada, es decir es un vector constante\n",
        "print(vector)\n",
        "\n",
        "print(\"version \", np._version__)\n",
        "print(\"tipo de dato \", type(vector))# tipo de dato\n",
        "print(\"dimension \", vector.ndim) #dimension del vector\n",
        "print(\"forma \", vector.shape)#forma del vector\n",
        "#crear vector de ceros\n",
        "vector_ceros = np.zeros(5)\n",
        "print(\"vector de ceros \", vector_ceros)\n",
        "\n",
        "#crear vector para llenar con unos\n",
        "vector_unos = np.ones(5)\n",
        "print(\"vector de unos \", vector_unos)"
      ],
      "metadata": {
        "colab": {
          "base_uri": "https://localhost:8080/",
          "height": 349
        },
        "id": "Gc7Zn5l9g5xC",
        "outputId": "3547e475-34e9-4ff0-b52f-2d92d27e840c"
      },
      "execution_count": null,
      "outputs": [
        {
          "output_type": "stream",
          "name": "stdout",
          "text": [
            "[1 2 3 4 5]\n"
          ]
        },
        {
          "output_type": "error",
          "ename": "AttributeError",
          "evalue": "module 'numpy' has no attribute '_version__'",
          "traceback": [
            "\u001b[0;31m---------------------------------------------------------------------------\u001b[0m",
            "\u001b[0;31mAttributeError\u001b[0m                            Traceback (most recent call last)",
            "\u001b[0;32m/tmp/ipython-input-4234037449.py\u001b[0m in \u001b[0;36m<cell line: 0>\u001b[0;34m()\u001b[0m\n\u001b[1;32m      3\u001b[0m \u001b[0mprint\u001b[0m\u001b[0;34m(\u001b[0m\u001b[0mvector\u001b[0m\u001b[0;34m)\u001b[0m\u001b[0;34m\u001b[0m\u001b[0;34m\u001b[0m\u001b[0m\n\u001b[1;32m      4\u001b[0m \u001b[0;34m\u001b[0m\u001b[0m\n\u001b[0;32m----> 5\u001b[0;31m \u001b[0mprint\u001b[0m\u001b[0;34m(\u001b[0m\u001b[0;34m\"version \"\u001b[0m\u001b[0;34m,\u001b[0m \u001b[0mnp\u001b[0m\u001b[0;34m.\u001b[0m\u001b[0m_version__\u001b[0m\u001b[0;34m)\u001b[0m\u001b[0;34m\u001b[0m\u001b[0;34m\u001b[0m\u001b[0m\n\u001b[0m\u001b[1;32m      6\u001b[0m \u001b[0mprint\u001b[0m\u001b[0;34m(\u001b[0m\u001b[0;34m\"tipo de dato \"\u001b[0m\u001b[0;34m,\u001b[0m \u001b[0mtype\u001b[0m\u001b[0;34m(\u001b[0m\u001b[0mvector\u001b[0m\u001b[0;34m)\u001b[0m\u001b[0;34m)\u001b[0m\u001b[0;31m# tipo de dato\u001b[0m\u001b[0;34m\u001b[0m\u001b[0;34m\u001b[0m\u001b[0m\n\u001b[1;32m      7\u001b[0m \u001b[0mprint\u001b[0m\u001b[0;34m(\u001b[0m\u001b[0;34m\"dimension \"\u001b[0m\u001b[0;34m,\u001b[0m \u001b[0mvector\u001b[0m\u001b[0;34m.\u001b[0m\u001b[0mndim\u001b[0m\u001b[0;34m)\u001b[0m \u001b[0;31m#dimension del vector\u001b[0m\u001b[0;34m\u001b[0m\u001b[0;34m\u001b[0m\u001b[0m\n",
            "\u001b[0;32m/usr/local/lib/python3.11/dist-packages/numpy/__init__.py\u001b[0m in \u001b[0;36m__getattr__\u001b[0;34m(attr)\u001b[0m\n\u001b[1;32m    408\u001b[0m             \u001b[0;32mreturn\u001b[0m \u001b[0mchar\u001b[0m\u001b[0;34m.\u001b[0m\u001b[0mchararray\u001b[0m\u001b[0;34m\u001b[0m\u001b[0;34m\u001b[0m\u001b[0m\n\u001b[1;32m    409\u001b[0m \u001b[0;34m\u001b[0m\u001b[0m\n\u001b[0;32m--> 410\u001b[0;31m         raise AttributeError(\"module {!r} has no attribute \"\n\u001b[0m\u001b[1;32m    411\u001b[0m                              \"{!r}\".format(__name__, attr))\n\u001b[1;32m    412\u001b[0m \u001b[0;34m\u001b[0m\u001b[0m\n",
            "\u001b[0;31mAttributeError\u001b[0m: module 'numpy' has no attribute '_version__'"
          ]
        }
      ]
    },
    {
      "cell_type": "code",
      "source": [
        "import numpy as np\n",
        "vector = np.arange(20)\n",
        "vector1 = np.random.rand(1,20)\n",
        "print(\"rango\", vector)\n",
        "print(\"Se llena aleatoriamente numeros reales\", vector1)\n",
        "vector2 = np.random.randint(1,100,10) #Llena numero aleatorios del 1 al 10 pero de un rango del 1 al 100\n",
        "print(\"aleatoria enteros:\",vector2)\n",
        "print(vector2.shape)\n",
        "\n",
        "#suma de vectores\n",
        "resultadovector = vector + vector1\n",
        "print(\"suma de vectores\", )"
      ],
      "metadata": {
        "colab": {
          "base_uri": "https://localhost:8080/"
        },
        "id": "aPrLyiITg-7K",
        "outputId": "e727ebd2-97bc-44ea-e67c-50b79ad9dd67"
      },
      "execution_count": null,
      "outputs": [
        {
          "output_type": "stream",
          "name": "stdout",
          "text": [
            "rango [ 0  1  2  3  4  5  6  7  8  9 10 11 12 13 14 15 16 17 18 19]\n",
            "Se llena aleatoriamente numeros reales [[0.03489029 0.72839168 0.66760576 0.98491963 0.51529152 0.84772802\n",
            "  0.38616938 0.31919601 0.47745152 0.05942702 0.1639804  0.06661812\n",
            "  0.87763372 0.35827917 0.33522981 0.64906184 0.52874092 0.28278037\n",
            "  0.70163374 0.17384941]]\n",
            "aleatoria enteros: [16 50 45 84 58  5 37 13 33 84]\n",
            "(10,)\n",
            "suma de vectores\n"
          ]
        }
      ]
    },
    {
      "cell_type": "markdown",
      "source": [
        "25 de agosto de 2025 con matrices y ejercicios de operaciones en matrices"
      ],
      "metadata": {
        "id": "gaAX8vL3HIdk"
      }
    },
    {
      "cell_type": "code",
      "source": [
        "import numpy as np\n",
        "#Crear una matriz de 2*2 con valores quemados\n",
        "matriz = np.array([[12,5],[67,98]])\n",
        "print(matriz)"
      ],
      "metadata": {
        "colab": {
          "base_uri": "https://localhost:8080/"
        },
        "id": "queAElayHT55",
        "outputId": "5e0f9317-1720-45df-961d-696c2ce0d007"
      },
      "execution_count": 1,
      "outputs": [
        {
          "output_type": "stream",
          "name": "stdout",
          "text": [
            "[[12  5]\n",
            " [67 98]]\n"
          ]
        }
      ]
    },
    {
      "cell_type": "code",
      "source": [
        "#Crear unan matriz llena de ceros\n",
        "matriz = np.zeros((3,3))\n",
        "print(matriz)\n",
        "print(\"\\033[34m----------------OTRA DIMENCIÓN DE MATRICES----------------------\\033[0m\")\n",
        "matriz1 = np.zeros((2,7))\n",
        "print(matriz1)"
      ],
      "metadata": {
        "colab": {
          "base_uri": "https://localhost:8080/"
        },
        "id": "ezSC8ir1Ir7d",
        "outputId": "f33ebb5b-b8ad-496f-bce4-fc51ae186bb3"
      },
      "execution_count": 2,
      "outputs": [
        {
          "output_type": "stream",
          "name": "stdout",
          "text": [
            "[[0. 0. 0.]\n",
            " [0. 0. 0.]\n",
            " [0. 0. 0.]]\n",
            "\u001b[34m----------------OTRA DIMENCIÓN DE MATRICES----------------------\u001b[0m\n",
            "[[0. 0. 0. 0. 0. 0. 0.]\n",
            " [0. 0. 0. 0. 0. 0. 0.]]\n"
          ]
        }
      ]
    },
    {
      "cell_type": "code",
      "source": [
        "#Otra forma de imprimir colores\n",
        "from rich import print\n",
        "print(\"[green] El color es azul[\\green]\")"
      ],
      "metadata": {
        "colab": {
          "base_uri": "https://localhost:8080/",
          "height": 103
        },
        "id": "2T3viNeuJv3p",
        "outputId": "fd6268f2-ab09-459f-bee9-052b187065e1"
      },
      "execution_count": 4,
      "outputs": [
        {
          "output_type": "stream",
          "name": "stderr",
          "text": [
            "<>:3: SyntaxWarning: invalid escape sequence '\\g'\n",
            "<>:3: SyntaxWarning: invalid escape sequence '\\g'\n",
            "/tmp/ipython-input-2400808152.py:3: SyntaxWarning: invalid escape sequence '\\g'\n",
            "  print(\"[green] El color es azul[\\green]\")\n"
          ]
        },
        {
          "output_type": "display_data",
          "data": {
            "text/plain": [
              "\u001b[32m El color es azul\u001b[0m\u001b[1;32m[\u001b[0m\u001b[32m\\green\u001b[0m\u001b[1;32m]\u001b[0m\n"
            ],
            "text/html": [
              "<pre style=\"white-space:pre;overflow-x:auto;line-height:normal;font-family:Menlo,'DejaVu Sans Mono',consolas,'Courier New',monospace\"><span style=\"color: #008000; text-decoration-color: #008000\"> El color es azul</span><span style=\"color: #008000; text-decoration-color: #008000; font-weight: bold\">[</span><span style=\"color: #008000; text-decoration-color: #008000\">\\green</span><span style=\"color: #008000; text-decoration-color: #008000; font-weight: bold\">]</span>\n",
              "</pre>\n"
            ]
          },
          "metadata": {}
        }
      ]
    },
    {
      "cell_type": "markdown",
      "source": [
        "[Explicación matematica de operaciones]"
      ],
      "metadata": {
        "id": "QY1SKwkUKnG-"
      }
    },
    {
      "cell_type": "code",
      "source": [
        "import numpy as np\n",
        "from rich import print\n",
        "MatrizA = ([[2,0,1],[3,0,0],[5,1,1]])\n",
        "MatrizB = ([[1,0,1],[1,2,1],[1,1,0]])\n",
        "#Producto entre matrices\n",
        "producto = np.dot(MatrizA,MatrizB)\n",
        "print(f\"[yellow]Este es el resultado \\n {producto}[/yellow]\")"
      ],
      "metadata": {
        "colab": {
          "base_uri": "https://localhost:8080/",
          "height": 85
        },
        "id": "mqZaQE5oLRa6",
        "outputId": "57abde70-bc27-4068-ad98-ea1314c80f83"
      },
      "execution_count": 5,
      "outputs": [
        {
          "output_type": "display_data",
          "data": {
            "text/plain": [
              "\u001b[33mEste es el resultado \u001b[0m\n",
              "\u001b[33m \u001b[0m\u001b[1;33m[\u001b[0m\u001b[1;33m[\u001b[0m\u001b[1;33m3\u001b[0m\u001b[33m \u001b[0m\u001b[1;33m1\u001b[0m\u001b[33m \u001b[0m\u001b[1;33m2\u001b[0m\u001b[1;33m]\u001b[0m\n",
              "\u001b[33m \u001b[0m\u001b[1;33m[\u001b[0m\u001b[1;33m3\u001b[0m\u001b[33m \u001b[0m\u001b[1;33m0\u001b[0m\u001b[33m \u001b[0m\u001b[1;33m3\u001b[0m\u001b[1;33m]\u001b[0m\n",
              "\u001b[33m \u001b[0m\u001b[1;33m[\u001b[0m\u001b[1;33m7\u001b[0m\u001b[33m \u001b[0m\u001b[1;33m3\u001b[0m\u001b[33m \u001b[0m\u001b[1;33m6\u001b[0m\u001b[1;33m]\u001b[0m\u001b[1;33m]\u001b[0m\n"
            ],
            "text/html": [
              "<pre style=\"white-space:pre;overflow-x:auto;line-height:normal;font-family:Menlo,'DejaVu Sans Mono',consolas,'Courier New',monospace\"><span style=\"color: #808000; text-decoration-color: #808000\">Este es el resultado </span>\n",
              "<span style=\"color: #808000; text-decoration-color: #808000\"> </span><span style=\"color: #808000; text-decoration-color: #808000; font-weight: bold\">[[</span><span style=\"color: #808000; text-decoration-color: #808000; font-weight: bold\">3</span><span style=\"color: #808000; text-decoration-color: #808000\"> </span><span style=\"color: #808000; text-decoration-color: #808000; font-weight: bold\">1</span><span style=\"color: #808000; text-decoration-color: #808000\"> </span><span style=\"color: #808000; text-decoration-color: #808000; font-weight: bold\">2</span><span style=\"color: #808000; text-decoration-color: #808000; font-weight: bold\">]</span>\n",
              "<span style=\"color: #808000; text-decoration-color: #808000\"> </span><span style=\"color: #808000; text-decoration-color: #808000; font-weight: bold\">[</span><span style=\"color: #808000; text-decoration-color: #808000; font-weight: bold\">3</span><span style=\"color: #808000; text-decoration-color: #808000\"> </span><span style=\"color: #808000; text-decoration-color: #808000; font-weight: bold\">0</span><span style=\"color: #808000; text-decoration-color: #808000\"> </span><span style=\"color: #808000; text-decoration-color: #808000; font-weight: bold\">3</span><span style=\"color: #808000; text-decoration-color: #808000; font-weight: bold\">]</span>\n",
              "<span style=\"color: #808000; text-decoration-color: #808000\"> </span><span style=\"color: #808000; text-decoration-color: #808000; font-weight: bold\">[</span><span style=\"color: #808000; text-decoration-color: #808000; font-weight: bold\">7</span><span style=\"color: #808000; text-decoration-color: #808000\"> </span><span style=\"color: #808000; text-decoration-color: #808000; font-weight: bold\">3</span><span style=\"color: #808000; text-decoration-color: #808000\"> </span><span style=\"color: #808000; text-decoration-color: #808000; font-weight: bold\">6</span><span style=\"color: #808000; text-decoration-color: #808000; font-weight: bold\">]]</span>\n",
              "</pre>\n"
            ]
          },
          "metadata": {}
        }
      ]
    },
    {
      "cell_type": "markdown",
      "source": [],
      "metadata": {
        "id": "ZJOFL6PCN0Lw"
      }
    },
    {
      "cell_type": "code",
      "source": [
        "import numpy as np\n",
        "MatrizA = ([[2,0,1],[3,0,0],[5,1,1]])\n",
        "#Formula de t\n",
        "MatrizT = np.transpose(MatrizA)\n",
        "print(f\"[yellow]Este es el resultado \\n {MatrizT}[/yellow]\")\n",
        "\"\"\"#Otra forma seria\n",
        "MAtrizT1 = MatrizA.T\n",
        "print(f\"[purple]Este es el resultado \\n {MatrizT}[/purple]\")\"\"\""
      ],
      "metadata": {
        "colab": {
          "base_uri": "https://localhost:8080/",
          "height": 103
        },
        "id": "KXp5MtQNN01q",
        "outputId": "f10520ce-1982-4507-9f96-bc0f70ea6d43"
      },
      "execution_count": 11,
      "outputs": [
        {
          "output_type": "display_data",
          "data": {
            "text/plain": [
              "\u001b[33mEste es el resultado \u001b[0m\n",
              "\u001b[33m \u001b[0m\u001b[1;33m[\u001b[0m\u001b[1;33m[\u001b[0m\u001b[1;33m2\u001b[0m\u001b[33m \u001b[0m\u001b[1;33m3\u001b[0m\u001b[33m \u001b[0m\u001b[1;33m5\u001b[0m\u001b[1;33m]\u001b[0m\n",
              "\u001b[33m \u001b[0m\u001b[1;33m[\u001b[0m\u001b[1;33m0\u001b[0m\u001b[33m \u001b[0m\u001b[1;33m0\u001b[0m\u001b[33m \u001b[0m\u001b[1;33m1\u001b[0m\u001b[1;33m]\u001b[0m\n",
              "\u001b[33m \u001b[0m\u001b[1;33m[\u001b[0m\u001b[1;33m1\u001b[0m\u001b[33m \u001b[0m\u001b[1;33m0\u001b[0m\u001b[33m \u001b[0m\u001b[1;33m1\u001b[0m\u001b[1;33m]\u001b[0m\u001b[1;33m]\u001b[0m\n"
            ],
            "text/html": [
              "<pre style=\"white-space:pre;overflow-x:auto;line-height:normal;font-family:Menlo,'DejaVu Sans Mono',consolas,'Courier New',monospace\"><span style=\"color: #808000; text-decoration-color: #808000\">Este es el resultado </span>\n",
              "<span style=\"color: #808000; text-decoration-color: #808000\"> </span><span style=\"color: #808000; text-decoration-color: #808000; font-weight: bold\">[[</span><span style=\"color: #808000; text-decoration-color: #808000; font-weight: bold\">2</span><span style=\"color: #808000; text-decoration-color: #808000\"> </span><span style=\"color: #808000; text-decoration-color: #808000; font-weight: bold\">3</span><span style=\"color: #808000; text-decoration-color: #808000\"> </span><span style=\"color: #808000; text-decoration-color: #808000; font-weight: bold\">5</span><span style=\"color: #808000; text-decoration-color: #808000; font-weight: bold\">]</span>\n",
              "<span style=\"color: #808000; text-decoration-color: #808000\"> </span><span style=\"color: #808000; text-decoration-color: #808000; font-weight: bold\">[</span><span style=\"color: #808000; text-decoration-color: #808000; font-weight: bold\">0</span><span style=\"color: #808000; text-decoration-color: #808000\"> </span><span style=\"color: #808000; text-decoration-color: #808000; font-weight: bold\">0</span><span style=\"color: #808000; text-decoration-color: #808000\"> </span><span style=\"color: #808000; text-decoration-color: #808000; font-weight: bold\">1</span><span style=\"color: #808000; text-decoration-color: #808000; font-weight: bold\">]</span>\n",
              "<span style=\"color: #808000; text-decoration-color: #808000\"> </span><span style=\"color: #808000; text-decoration-color: #808000; font-weight: bold\">[</span><span style=\"color: #808000; text-decoration-color: #808000; font-weight: bold\">1</span><span style=\"color: #808000; text-decoration-color: #808000\"> </span><span style=\"color: #808000; text-decoration-color: #808000; font-weight: bold\">0</span><span style=\"color: #808000; text-decoration-color: #808000\"> </span><span style=\"color: #808000; text-decoration-color: #808000; font-weight: bold\">1</span><span style=\"color: #808000; text-decoration-color: #808000; font-weight: bold\">]]</span>\n",
              "</pre>\n"
            ]
          },
          "metadata": {}
        },
        {
          "output_type": "execute_result",
          "data": {
            "text/plain": [
              "'#Otra forma seria\\nMAtrizT1 = MatrizA.T\\nprint(f\"[purple]Este es el resultado \\n {MatrizT}[/purple]\")'"
            ],
            "application/vnd.google.colaboratory.intrinsic+json": {
              "type": "string"
            }
          },
          "metadata": {},
          "execution_count": 11
        }
      ]
    },
    {
      "cell_type": "code",
      "source": [
        "import numpy as np\n",
        "from rich import print\n",
        "MatrizA = ([[2,0,1],[3,0,0],[5,1,1]])\n",
        "MatrizB = ([[1,0,1],[1,2,1],[1,1,0]])\n",
        "suma = np.add(MatrizA,MatrizB)\n",
        "print(f\"[yellow]Este es el resultado \\n {suma}[/yellow]\")\n",
        "#Otra forma seria\n",
        "import numpy as np\n",
        "from rich import print\n",
        "MatrizA = ([[2,0,1],[3,0,0],[5,1,1]])\n",
        "MatrizB = ([[1,0,1],[1,2,1],[1,1,0]])\n",
        "suma = np.sum(MatrizA)\n",
        "print(f\"[yellow]Este es el resultado \\n {suma}[/yellow]\")"
      ],
      "metadata": {
        "colab": {
          "base_uri": "https://localhost:8080/",
          "height": 119
        },
        "id": "Y_knP_pvQH02",
        "outputId": "a1cfb181-dfc5-4017-b90c-efddc231b2e4"
      },
      "execution_count": 13,
      "outputs": [
        {
          "output_type": "display_data",
          "data": {
            "text/plain": [
              "\u001b[33mEste es el resultado \u001b[0m\n",
              "\u001b[33m \u001b[0m\u001b[1;33m[\u001b[0m\u001b[1;33m[\u001b[0m\u001b[1;33m3\u001b[0m\u001b[33m \u001b[0m\u001b[1;33m0\u001b[0m\u001b[33m \u001b[0m\u001b[1;33m2\u001b[0m\u001b[1;33m]\u001b[0m\n",
              "\u001b[33m \u001b[0m\u001b[1;33m[\u001b[0m\u001b[1;33m4\u001b[0m\u001b[33m \u001b[0m\u001b[1;33m2\u001b[0m\u001b[33m \u001b[0m\u001b[1;33m1\u001b[0m\u001b[1;33m]\u001b[0m\n",
              "\u001b[33m \u001b[0m\u001b[1;33m[\u001b[0m\u001b[1;33m6\u001b[0m\u001b[33m \u001b[0m\u001b[1;33m2\u001b[0m\u001b[33m \u001b[0m\u001b[1;33m1\u001b[0m\u001b[1;33m]\u001b[0m\u001b[1;33m]\u001b[0m\n"
            ],
            "text/html": [
              "<pre style=\"white-space:pre;overflow-x:auto;line-height:normal;font-family:Menlo,'DejaVu Sans Mono',consolas,'Courier New',monospace\"><span style=\"color: #808000; text-decoration-color: #808000\">Este es el resultado </span>\n",
              "<span style=\"color: #808000; text-decoration-color: #808000\"> </span><span style=\"color: #808000; text-decoration-color: #808000; font-weight: bold\">[[</span><span style=\"color: #808000; text-decoration-color: #808000; font-weight: bold\">3</span><span style=\"color: #808000; text-decoration-color: #808000\"> </span><span style=\"color: #808000; text-decoration-color: #808000; font-weight: bold\">0</span><span style=\"color: #808000; text-decoration-color: #808000\"> </span><span style=\"color: #808000; text-decoration-color: #808000; font-weight: bold\">2</span><span style=\"color: #808000; text-decoration-color: #808000; font-weight: bold\">]</span>\n",
              "<span style=\"color: #808000; text-decoration-color: #808000\"> </span><span style=\"color: #808000; text-decoration-color: #808000; font-weight: bold\">[</span><span style=\"color: #808000; text-decoration-color: #808000; font-weight: bold\">4</span><span style=\"color: #808000; text-decoration-color: #808000\"> </span><span style=\"color: #808000; text-decoration-color: #808000; font-weight: bold\">2</span><span style=\"color: #808000; text-decoration-color: #808000\"> </span><span style=\"color: #808000; text-decoration-color: #808000; font-weight: bold\">1</span><span style=\"color: #808000; text-decoration-color: #808000; font-weight: bold\">]</span>\n",
              "<span style=\"color: #808000; text-decoration-color: #808000\"> </span><span style=\"color: #808000; text-decoration-color: #808000; font-weight: bold\">[</span><span style=\"color: #808000; text-decoration-color: #808000; font-weight: bold\">6</span><span style=\"color: #808000; text-decoration-color: #808000\"> </span><span style=\"color: #808000; text-decoration-color: #808000; font-weight: bold\">2</span><span style=\"color: #808000; text-decoration-color: #808000\"> </span><span style=\"color: #808000; text-decoration-color: #808000; font-weight: bold\">1</span><span style=\"color: #808000; text-decoration-color: #808000; font-weight: bold\">]]</span>\n",
              "</pre>\n"
            ]
          },
          "metadata": {}
        },
        {
          "output_type": "display_data",
          "data": {
            "text/plain": [
              "\u001b[33mEste es el resultado \u001b[0m\n",
              "\u001b[33m \u001b[0m\u001b[1;33m13\u001b[0m\n"
            ],
            "text/html": [
              "<pre style=\"white-space:pre;overflow-x:auto;line-height:normal;font-family:Menlo,'DejaVu Sans Mono',consolas,'Courier New',monospace\"><span style=\"color: #808000; text-decoration-color: #808000\">Este es el resultado </span>\n",
              "<span style=\"color: #808000; text-decoration-color: #808000\"> </span><span style=\"color: #808000; text-decoration-color: #808000; font-weight: bold\">13</span>\n",
              "</pre>\n"
            ]
          },
          "metadata": {}
        }
      ]
    },
    {
      "cell_type": "markdown",
      "source": [
        "Multiplicación de un escalar"
      ],
      "metadata": {
        "id": "wrzhHJyojs1y"
      }
    },
    {
      "cell_type": "code",
      "source": [
        "#Ejemplo de una matriz de 3*3 multiplicado por un escalar\n",
        "import numpy as np\n",
        "from rich import print\n",
        "\n",
        "Matriz = np.array([[2,4,5],[4,5,7],[1,0,9]])\n",
        "escalar = 4\n",
        "MatrizEscalar = escalar*Matriz\n",
        "print(MatrizEscalar)\n",
        "\n",
        "#Otra forma de hacer un escalar\n",
        "\n",
        "producto = np.multiply(escalar,Matriz)\n",
        "print(f\"[blue]Otra forma de operar{producto}[/blue]\")\n",
        "\n"
      ],
      "metadata": {
        "colab": {
          "base_uri": "https://localhost:8080/",
          "height": 119
        },
        "id": "b-UoTrD1jwox",
        "outputId": "644e0875-17b0-415f-e86f-bcba92f6c882"
      },
      "execution_count": 3,
      "outputs": [
        {
          "output_type": "display_data",
          "data": {
            "text/plain": [
              "\u001b[1m[\u001b[0m\u001b[1m[\u001b[0m \u001b[1;36m8\u001b[0m \u001b[1;36m16\u001b[0m \u001b[1;36m20\u001b[0m\u001b[1m]\u001b[0m\n",
              " \u001b[1m[\u001b[0m\u001b[1;36m16\u001b[0m \u001b[1;36m20\u001b[0m \u001b[1;36m28\u001b[0m\u001b[1m]\u001b[0m\n",
              " \u001b[1m[\u001b[0m \u001b[1;36m4\u001b[0m  \u001b[1;36m0\u001b[0m \u001b[1;36m36\u001b[0m\u001b[1m]\u001b[0m\u001b[1m]\u001b[0m\n"
            ],
            "text/html": [
              "<pre style=\"white-space:pre;overflow-x:auto;line-height:normal;font-family:Menlo,'DejaVu Sans Mono',consolas,'Courier New',monospace\"><span style=\"font-weight: bold\">[[</span> <span style=\"color: #008080; text-decoration-color: #008080; font-weight: bold\">8</span> <span style=\"color: #008080; text-decoration-color: #008080; font-weight: bold\">16</span> <span style=\"color: #008080; text-decoration-color: #008080; font-weight: bold\">20</span><span style=\"font-weight: bold\">]</span>\n",
              " <span style=\"font-weight: bold\">[</span><span style=\"color: #008080; text-decoration-color: #008080; font-weight: bold\">16</span> <span style=\"color: #008080; text-decoration-color: #008080; font-weight: bold\">20</span> <span style=\"color: #008080; text-decoration-color: #008080; font-weight: bold\">28</span><span style=\"font-weight: bold\">]</span>\n",
              " <span style=\"font-weight: bold\">[</span> <span style=\"color: #008080; text-decoration-color: #008080; font-weight: bold\">4</span>  <span style=\"color: #008080; text-decoration-color: #008080; font-weight: bold\">0</span> <span style=\"color: #008080; text-decoration-color: #008080; font-weight: bold\">36</span><span style=\"font-weight: bold\">]]</span>\n",
              "</pre>\n"
            ]
          },
          "metadata": {}
        },
        {
          "output_type": "display_data",
          "data": {
            "text/plain": [
              "\u001b[34mOtra forma de operar\u001b[0m\u001b[1;34m[\u001b[0m\u001b[1;34m[\u001b[0m\u001b[34m \u001b[0m\u001b[1;34m8\u001b[0m\u001b[34m \u001b[0m\u001b[1;34m16\u001b[0m\u001b[34m \u001b[0m\u001b[1;34m20\u001b[0m\u001b[1;34m]\u001b[0m\n",
              "\u001b[34m \u001b[0m\u001b[1;34m[\u001b[0m\u001b[1;34m16\u001b[0m\u001b[34m \u001b[0m\u001b[1;34m20\u001b[0m\u001b[34m \u001b[0m\u001b[1;34m28\u001b[0m\u001b[1;34m]\u001b[0m\n",
              "\u001b[34m \u001b[0m\u001b[1;34m[\u001b[0m\u001b[34m \u001b[0m\u001b[1;34m4\u001b[0m\u001b[34m  \u001b[0m\u001b[1;34m0\u001b[0m\u001b[34m \u001b[0m\u001b[1;34m36\u001b[0m\u001b[1;34m]\u001b[0m\u001b[1;34m]\u001b[0m\n"
            ],
            "text/html": [
              "<pre style=\"white-space:pre;overflow-x:auto;line-height:normal;font-family:Menlo,'DejaVu Sans Mono',consolas,'Courier New',monospace\"><span style=\"color: #000080; text-decoration-color: #000080\">Otra forma de operar</span><span style=\"color: #000080; text-decoration-color: #000080; font-weight: bold\">[[</span><span style=\"color: #000080; text-decoration-color: #000080\"> </span><span style=\"color: #000080; text-decoration-color: #000080; font-weight: bold\">8</span><span style=\"color: #000080; text-decoration-color: #000080\"> </span><span style=\"color: #000080; text-decoration-color: #000080; font-weight: bold\">16</span><span style=\"color: #000080; text-decoration-color: #000080\"> </span><span style=\"color: #000080; text-decoration-color: #000080; font-weight: bold\">20</span><span style=\"color: #000080; text-decoration-color: #000080; font-weight: bold\">]</span>\n",
              "<span style=\"color: #000080; text-decoration-color: #000080\"> </span><span style=\"color: #000080; text-decoration-color: #000080; font-weight: bold\">[</span><span style=\"color: #000080; text-decoration-color: #000080; font-weight: bold\">16</span><span style=\"color: #000080; text-decoration-color: #000080\"> </span><span style=\"color: #000080; text-decoration-color: #000080; font-weight: bold\">20</span><span style=\"color: #000080; text-decoration-color: #000080\"> </span><span style=\"color: #000080; text-decoration-color: #000080; font-weight: bold\">28</span><span style=\"color: #000080; text-decoration-color: #000080; font-weight: bold\">]</span>\n",
              "<span style=\"color: #000080; text-decoration-color: #000080\"> </span><span style=\"color: #000080; text-decoration-color: #000080; font-weight: bold\">[</span><span style=\"color: #000080; text-decoration-color: #000080\"> </span><span style=\"color: #000080; text-decoration-color: #000080; font-weight: bold\">4</span><span style=\"color: #000080; text-decoration-color: #000080\">  </span><span style=\"color: #000080; text-decoration-color: #000080; font-weight: bold\">0</span><span style=\"color: #000080; text-decoration-color: #000080\"> </span><span style=\"color: #000080; text-decoration-color: #000080; font-weight: bold\">36</span><span style=\"color: #000080; text-decoration-color: #000080; font-weight: bold\">]]</span>\n",
              "</pre>\n"
            ]
          },
          "metadata": {}
        }
      ]
    },
    {
      "cell_type": "code",
      "source": [
        "import numpy as np\n",
        "from rich import print\n",
        "MatrizA = ([[2,0,1],[3,0,0],[5,1,1]])\n",
        "MatrizB = ([[1,0,1],[1,2,1],[1,1,0]])\n",
        "\n",
        "resultadoResto = np.subtract(MatrizA,MatrizB)\n",
        "\n",
        "print(f\"[yellow]Este es el resultado \\n {resultadoResto}[/yellow]\")"
      ],
      "metadata": {
        "colab": {
          "base_uri": "https://localhost:8080/",
          "height": 85
        },
        "id": "Pdf13W-ApFSE",
        "outputId": "29a22fb6-f136-41a2-a3ab-80e467a9d7cc"
      },
      "execution_count": 5,
      "outputs": [
        {
          "output_type": "display_data",
          "data": {
            "text/plain": [
              "\u001b[33mEste es el resultado \u001b[0m\n",
              "\u001b[33m \u001b[0m\u001b[1;33m[\u001b[0m\u001b[1;33m[\u001b[0m\u001b[33m \u001b[0m\u001b[1;33m1\u001b[0m\u001b[33m  \u001b[0m\u001b[1;33m0\u001b[0m\u001b[33m  \u001b[0m\u001b[1;33m0\u001b[0m\u001b[1;33m]\u001b[0m\n",
              "\u001b[33m \u001b[0m\u001b[1;33m[\u001b[0m\u001b[33m \u001b[0m\u001b[1;33m2\u001b[0m\u001b[33m \u001b[0m\u001b[1;33m-2\u001b[0m\u001b[33m \u001b[0m\u001b[1;33m-1\u001b[0m\u001b[1;33m]\u001b[0m\n",
              "\u001b[33m \u001b[0m\u001b[1;33m[\u001b[0m\u001b[33m \u001b[0m\u001b[1;33m4\u001b[0m\u001b[33m  \u001b[0m\u001b[1;33m0\u001b[0m\u001b[33m  \u001b[0m\u001b[1;33m1\u001b[0m\u001b[1;33m]\u001b[0m\u001b[1;33m]\u001b[0m\n"
            ],
            "text/html": [
              "<pre style=\"white-space:pre;overflow-x:auto;line-height:normal;font-family:Menlo,'DejaVu Sans Mono',consolas,'Courier New',monospace\"><span style=\"color: #808000; text-decoration-color: #808000\">Este es el resultado </span>\n",
              "<span style=\"color: #808000; text-decoration-color: #808000\"> </span><span style=\"color: #808000; text-decoration-color: #808000; font-weight: bold\">[[</span><span style=\"color: #808000; text-decoration-color: #808000\"> </span><span style=\"color: #808000; text-decoration-color: #808000; font-weight: bold\">1</span><span style=\"color: #808000; text-decoration-color: #808000\">  </span><span style=\"color: #808000; text-decoration-color: #808000; font-weight: bold\">0</span><span style=\"color: #808000; text-decoration-color: #808000\">  </span><span style=\"color: #808000; text-decoration-color: #808000; font-weight: bold\">0</span><span style=\"color: #808000; text-decoration-color: #808000; font-weight: bold\">]</span>\n",
              "<span style=\"color: #808000; text-decoration-color: #808000\"> </span><span style=\"color: #808000; text-decoration-color: #808000; font-weight: bold\">[</span><span style=\"color: #808000; text-decoration-color: #808000\"> </span><span style=\"color: #808000; text-decoration-color: #808000; font-weight: bold\">2</span><span style=\"color: #808000; text-decoration-color: #808000\"> </span><span style=\"color: #808000; text-decoration-color: #808000; font-weight: bold\">-2</span><span style=\"color: #808000; text-decoration-color: #808000\"> </span><span style=\"color: #808000; text-decoration-color: #808000; font-weight: bold\">-1</span><span style=\"color: #808000; text-decoration-color: #808000; font-weight: bold\">]</span>\n",
              "<span style=\"color: #808000; text-decoration-color: #808000\"> </span><span style=\"color: #808000; text-decoration-color: #808000; font-weight: bold\">[</span><span style=\"color: #808000; text-decoration-color: #808000\"> </span><span style=\"color: #808000; text-decoration-color: #808000; font-weight: bold\">4</span><span style=\"color: #808000; text-decoration-color: #808000\">  </span><span style=\"color: #808000; text-decoration-color: #808000; font-weight: bold\">0</span><span style=\"color: #808000; text-decoration-color: #808000\">  </span><span style=\"color: #808000; text-decoration-color: #808000; font-weight: bold\">1</span><span style=\"color: #808000; text-decoration-color: #808000; font-weight: bold\">]]</span>\n",
              "</pre>\n"
            ]
          },
          "metadata": {}
        }
      ]
    },
    {
      "cell_type": "markdown",
      "source": [
        "Con ciclos haremos operaciones con escalar"
      ],
      "metadata": {
        "id": "S-SoYUgkqe_A"
      }
    },
    {
      "cell_type": "code",
      "source": [
        "import numpy as np\n",
        "# creame  de 3*3\n",
        "Matriz=np.array([[2,4,5],[4,5,7],[1,0,9]])\n",
        "escalar=4\n",
        "vector=np.zeros(9)\n",
        "print(vector)\n",
        "# c seria columna\n",
        "# f fila\n",
        "i=0\n",
        "# llenar un vecto de 9 posisciones con la matriz de 3*#\n",
        "for f in range(Matriz.shape[0]):\n",
        "  for c in range(Matriz.shape[1]):\n",
        "      a=Matriz[f,c]\n",
        "      vector[i]=a\n",
        "      i=i+1\n",
        "\n",
        "print(vector)\n",
        "# ahora si con el escalar la matriz\n",
        "tamano=len(Matriz)\n",
        "print(\"tamaño matriz\", tamano)\n",
        "for f in range(len(Matriz)):\n",
        "  for c in range(len(Matriz)):\n",
        "    # motrar valores de la matriz\n",
        "      Matriz[f][c]=Matriz[f][c]*escalar\n",
        "print(f\"{Matriz}\")"
      ],
      "metadata": {
        "colab": {
          "base_uri": "https://localhost:8080/",
          "height": 119
        },
        "id": "ROzpWv7GqjfS",
        "outputId": "4f0350e0-7080-4171-dace-772b21badeb6"
      },
      "execution_count": 17,
      "outputs": [
        {
          "output_type": "display_data",
          "data": {
            "text/plain": [
              "\u001b[1m[\u001b[0m\u001b[1;36m0\u001b[0m. \u001b[1;36m0\u001b[0m. \u001b[1;36m0\u001b[0m. \u001b[1;36m0\u001b[0m. \u001b[1;36m0\u001b[0m. \u001b[1;36m0\u001b[0m. \u001b[1;36m0\u001b[0m. \u001b[1;36m0\u001b[0m. \u001b[1;36m0\u001b[0m.\u001b[1m]\u001b[0m\n"
            ],
            "text/html": [
              "<pre style=\"white-space:pre;overflow-x:auto;line-height:normal;font-family:Menlo,'DejaVu Sans Mono',consolas,'Courier New',monospace\"><span style=\"font-weight: bold\">[</span><span style=\"color: #008080; text-decoration-color: #008080; font-weight: bold\">0</span>. <span style=\"color: #008080; text-decoration-color: #008080; font-weight: bold\">0</span>. <span style=\"color: #008080; text-decoration-color: #008080; font-weight: bold\">0</span>. <span style=\"color: #008080; text-decoration-color: #008080; font-weight: bold\">0</span>. <span style=\"color: #008080; text-decoration-color: #008080; font-weight: bold\">0</span>. <span style=\"color: #008080; text-decoration-color: #008080; font-weight: bold\">0</span>. <span style=\"color: #008080; text-decoration-color: #008080; font-weight: bold\">0</span>. <span style=\"color: #008080; text-decoration-color: #008080; font-weight: bold\">0</span>. <span style=\"color: #008080; text-decoration-color: #008080; font-weight: bold\">0</span>.<span style=\"font-weight: bold\">]</span>\n",
              "</pre>\n"
            ]
          },
          "metadata": {}
        },
        {
          "output_type": "display_data",
          "data": {
            "text/plain": [
              "\u001b[1m[\u001b[0m\u001b[1;36m2\u001b[0m. \u001b[1;36m4\u001b[0m. \u001b[1;36m5\u001b[0m. \u001b[1;36m4\u001b[0m. \u001b[1;36m5\u001b[0m. \u001b[1;36m7\u001b[0m. \u001b[1;36m1\u001b[0m. \u001b[1;36m0\u001b[0m. \u001b[1;36m9\u001b[0m.\u001b[1m]\u001b[0m\n"
            ],
            "text/html": [
              "<pre style=\"white-space:pre;overflow-x:auto;line-height:normal;font-family:Menlo,'DejaVu Sans Mono',consolas,'Courier New',monospace\"><span style=\"font-weight: bold\">[</span><span style=\"color: #008080; text-decoration-color: #008080; font-weight: bold\">2</span>. <span style=\"color: #008080; text-decoration-color: #008080; font-weight: bold\">4</span>. <span style=\"color: #008080; text-decoration-color: #008080; font-weight: bold\">5</span>. <span style=\"color: #008080; text-decoration-color: #008080; font-weight: bold\">4</span>. <span style=\"color: #008080; text-decoration-color: #008080; font-weight: bold\">5</span>. <span style=\"color: #008080; text-decoration-color: #008080; font-weight: bold\">7</span>. <span style=\"color: #008080; text-decoration-color: #008080; font-weight: bold\">1</span>. <span style=\"color: #008080; text-decoration-color: #008080; font-weight: bold\">0</span>. <span style=\"color: #008080; text-decoration-color: #008080; font-weight: bold\">9</span>.<span style=\"font-weight: bold\">]</span>\n",
              "</pre>\n"
            ]
          },
          "metadata": {}
        },
        {
          "output_type": "display_data",
          "data": {
            "text/plain": [
              "tamaño matriz \u001b[1;36m3\u001b[0m\n"
            ],
            "text/html": [
              "<pre style=\"white-space:pre;overflow-x:auto;line-height:normal;font-family:Menlo,'DejaVu Sans Mono',consolas,'Courier New',monospace\">tamaño matriz <span style=\"color: #008080; text-decoration-color: #008080; font-weight: bold\">3</span>\n",
              "</pre>\n"
            ]
          },
          "metadata": {}
        },
        {
          "output_type": "display_data",
          "data": {
            "text/plain": [
              "\u001b[1m[\u001b[0m\u001b[1m[\u001b[0m \u001b[1;36m8\u001b[0m \u001b[1;36m16\u001b[0m \u001b[1;36m20\u001b[0m\u001b[1m]\u001b[0m\n",
              " \u001b[1m[\u001b[0m\u001b[1;36m16\u001b[0m \u001b[1;36m20\u001b[0m \u001b[1;36m28\u001b[0m\u001b[1m]\u001b[0m\n",
              " \u001b[1m[\u001b[0m \u001b[1;36m4\u001b[0m  \u001b[1;36m0\u001b[0m \u001b[1;36m36\u001b[0m\u001b[1m]\u001b[0m\u001b[1m]\u001b[0m\n"
            ],
            "text/html": [
              "<pre style=\"white-space:pre;overflow-x:auto;line-height:normal;font-family:Menlo,'DejaVu Sans Mono',consolas,'Courier New',monospace\"><span style=\"font-weight: bold\">[[</span> <span style=\"color: #008080; text-decoration-color: #008080; font-weight: bold\">8</span> <span style=\"color: #008080; text-decoration-color: #008080; font-weight: bold\">16</span> <span style=\"color: #008080; text-decoration-color: #008080; font-weight: bold\">20</span><span style=\"font-weight: bold\">]</span>\n",
              " <span style=\"font-weight: bold\">[</span><span style=\"color: #008080; text-decoration-color: #008080; font-weight: bold\">16</span> <span style=\"color: #008080; text-decoration-color: #008080; font-weight: bold\">20</span> <span style=\"color: #008080; text-decoration-color: #008080; font-weight: bold\">28</span><span style=\"font-weight: bold\">]</span>\n",
              " <span style=\"font-weight: bold\">[</span> <span style=\"color: #008080; text-decoration-color: #008080; font-weight: bold\">4</span>  <span style=\"color: #008080; text-decoration-color: #008080; font-weight: bold\">0</span> <span style=\"color: #008080; text-decoration-color: #008080; font-weight: bold\">36</span><span style=\"font-weight: bold\">]]</span>\n",
              "</pre>\n"
            ]
          },
          "metadata": {}
        }
      ]
    },
    {
      "cell_type": "code",
      "source": [
        "# diagonal superio , e inferior\n",
        "import numpy as np\n",
        "tamano=4\n",
        "# crearemos una matriz de 4*4 para llenarlos de ceros\n",
        "matriz=np.zeros((tamano,tamano))\n",
        "print(matriz)\n",
        "# diagonal superior\n",
        "#i= fila\n",
        "#j = columna\n",
        "for f in range(tamano):\n",
        "  for c in range(tamano):\n",
        "    if f<=c:\n",
        "      matriz[f,c]=1\n",
        "print(matriz)\n",
        "# funcion de numpy con diagonal\n",
        "matriz=np.triu(matriz)\n",
        "print(f\"[#8A4236]{matriz}[/#8A4236]\")#\n"
      ],
      "metadata": {
        "colab": {
          "base_uri": "https://localhost:8080/",
          "height": 221
        },
        "id": "g8ku5RyGviEg",
        "outputId": "67668487-0d93-4ab1-dc6c-cd79a2a16912"
      },
      "execution_count": 19,
      "outputs": [
        {
          "output_type": "display_data",
          "data": {
            "text/plain": [
              "\u001b[1m[\u001b[0m\u001b[1m[\u001b[0m\u001b[1;36m0\u001b[0m. \u001b[1;36m0\u001b[0m. \u001b[1;36m0\u001b[0m. \u001b[1;36m0\u001b[0m.\u001b[1m]\u001b[0m\n",
              " \u001b[1m[\u001b[0m\u001b[1;36m0\u001b[0m. \u001b[1;36m0\u001b[0m. \u001b[1;36m0\u001b[0m. \u001b[1;36m0\u001b[0m.\u001b[1m]\u001b[0m\n",
              " \u001b[1m[\u001b[0m\u001b[1;36m0\u001b[0m. \u001b[1;36m0\u001b[0m. \u001b[1;36m0\u001b[0m. \u001b[1;36m0\u001b[0m.\u001b[1m]\u001b[0m\n",
              " \u001b[1m[\u001b[0m\u001b[1;36m0\u001b[0m. \u001b[1;36m0\u001b[0m. \u001b[1;36m0\u001b[0m. \u001b[1;36m0\u001b[0m.\u001b[1m]\u001b[0m\u001b[1m]\u001b[0m\n"
            ],
            "text/html": [
              "<pre style=\"white-space:pre;overflow-x:auto;line-height:normal;font-family:Menlo,'DejaVu Sans Mono',consolas,'Courier New',monospace\"><span style=\"font-weight: bold\">[[</span><span style=\"color: #008080; text-decoration-color: #008080; font-weight: bold\">0</span>. <span style=\"color: #008080; text-decoration-color: #008080; font-weight: bold\">0</span>. <span style=\"color: #008080; text-decoration-color: #008080; font-weight: bold\">0</span>. <span style=\"color: #008080; text-decoration-color: #008080; font-weight: bold\">0</span>.<span style=\"font-weight: bold\">]</span>\n",
              " <span style=\"font-weight: bold\">[</span><span style=\"color: #008080; text-decoration-color: #008080; font-weight: bold\">0</span>. <span style=\"color: #008080; text-decoration-color: #008080; font-weight: bold\">0</span>. <span style=\"color: #008080; text-decoration-color: #008080; font-weight: bold\">0</span>. <span style=\"color: #008080; text-decoration-color: #008080; font-weight: bold\">0</span>.<span style=\"font-weight: bold\">]</span>\n",
              " <span style=\"font-weight: bold\">[</span><span style=\"color: #008080; text-decoration-color: #008080; font-weight: bold\">0</span>. <span style=\"color: #008080; text-decoration-color: #008080; font-weight: bold\">0</span>. <span style=\"color: #008080; text-decoration-color: #008080; font-weight: bold\">0</span>. <span style=\"color: #008080; text-decoration-color: #008080; font-weight: bold\">0</span>.<span style=\"font-weight: bold\">]</span>\n",
              " <span style=\"font-weight: bold\">[</span><span style=\"color: #008080; text-decoration-color: #008080; font-weight: bold\">0</span>. <span style=\"color: #008080; text-decoration-color: #008080; font-weight: bold\">0</span>. <span style=\"color: #008080; text-decoration-color: #008080; font-weight: bold\">0</span>. <span style=\"color: #008080; text-decoration-color: #008080; font-weight: bold\">0</span>.<span style=\"font-weight: bold\">]]</span>\n",
              "</pre>\n"
            ]
          },
          "metadata": {}
        },
        {
          "output_type": "display_data",
          "data": {
            "text/plain": [
              "\u001b[1m[\u001b[0m\u001b[1m[\u001b[0m\u001b[1;36m1\u001b[0m. \u001b[1;36m1\u001b[0m. \u001b[1;36m1\u001b[0m. \u001b[1;36m1\u001b[0m.\u001b[1m]\u001b[0m\n",
              " \u001b[1m[\u001b[0m\u001b[1;36m0\u001b[0m. \u001b[1;36m1\u001b[0m. \u001b[1;36m1\u001b[0m. \u001b[1;36m1\u001b[0m.\u001b[1m]\u001b[0m\n",
              " \u001b[1m[\u001b[0m\u001b[1;36m0\u001b[0m. \u001b[1;36m0\u001b[0m. \u001b[1;36m1\u001b[0m. \u001b[1;36m1\u001b[0m.\u001b[1m]\u001b[0m\n",
              " \u001b[1m[\u001b[0m\u001b[1;36m0\u001b[0m. \u001b[1;36m0\u001b[0m. \u001b[1;36m0\u001b[0m. \u001b[1;36m1\u001b[0m.\u001b[1m]\u001b[0m\u001b[1m]\u001b[0m\n"
            ],
            "text/html": [
              "<pre style=\"white-space:pre;overflow-x:auto;line-height:normal;font-family:Menlo,'DejaVu Sans Mono',consolas,'Courier New',monospace\"><span style=\"font-weight: bold\">[[</span><span style=\"color: #008080; text-decoration-color: #008080; font-weight: bold\">1</span>. <span style=\"color: #008080; text-decoration-color: #008080; font-weight: bold\">1</span>. <span style=\"color: #008080; text-decoration-color: #008080; font-weight: bold\">1</span>. <span style=\"color: #008080; text-decoration-color: #008080; font-weight: bold\">1</span>.<span style=\"font-weight: bold\">]</span>\n",
              " <span style=\"font-weight: bold\">[</span><span style=\"color: #008080; text-decoration-color: #008080; font-weight: bold\">0</span>. <span style=\"color: #008080; text-decoration-color: #008080; font-weight: bold\">1</span>. <span style=\"color: #008080; text-decoration-color: #008080; font-weight: bold\">1</span>. <span style=\"color: #008080; text-decoration-color: #008080; font-weight: bold\">1</span>.<span style=\"font-weight: bold\">]</span>\n",
              " <span style=\"font-weight: bold\">[</span><span style=\"color: #008080; text-decoration-color: #008080; font-weight: bold\">0</span>. <span style=\"color: #008080; text-decoration-color: #008080; font-weight: bold\">0</span>. <span style=\"color: #008080; text-decoration-color: #008080; font-weight: bold\">1</span>. <span style=\"color: #008080; text-decoration-color: #008080; font-weight: bold\">1</span>.<span style=\"font-weight: bold\">]</span>\n",
              " <span style=\"font-weight: bold\">[</span><span style=\"color: #008080; text-decoration-color: #008080; font-weight: bold\">0</span>. <span style=\"color: #008080; text-decoration-color: #008080; font-weight: bold\">0</span>. <span style=\"color: #008080; text-decoration-color: #008080; font-weight: bold\">0</span>. <span style=\"color: #008080; text-decoration-color: #008080; font-weight: bold\">1</span>.<span style=\"font-weight: bold\">]]</span>\n",
              "</pre>\n"
            ]
          },
          "metadata": {}
        },
        {
          "output_type": "display_data",
          "data": {
            "text/plain": [
              "\u001b[1;38;2;138;66;54m[\u001b[0m\u001b[1;38;2;138;66;54m[\u001b[0m\u001b[1;38;2;138;66;54m1\u001b[0m\u001b[38;2;138;66;54m. \u001b[0m\u001b[1;38;2;138;66;54m1\u001b[0m\u001b[38;2;138;66;54m. \u001b[0m\u001b[1;38;2;138;66;54m1\u001b[0m\u001b[38;2;138;66;54m. \u001b[0m\u001b[1;38;2;138;66;54m1\u001b[0m\u001b[38;2;138;66;54m.\u001b[0m\u001b[1;38;2;138;66;54m]\u001b[0m\n",
              "\u001b[38;2;138;66;54m \u001b[0m\u001b[1;38;2;138;66;54m[\u001b[0m\u001b[1;38;2;138;66;54m0\u001b[0m\u001b[38;2;138;66;54m. \u001b[0m\u001b[1;38;2;138;66;54m1\u001b[0m\u001b[38;2;138;66;54m. \u001b[0m\u001b[1;38;2;138;66;54m1\u001b[0m\u001b[38;2;138;66;54m. \u001b[0m\u001b[1;38;2;138;66;54m1\u001b[0m\u001b[38;2;138;66;54m.\u001b[0m\u001b[1;38;2;138;66;54m]\u001b[0m\n",
              "\u001b[38;2;138;66;54m \u001b[0m\u001b[1;38;2;138;66;54m[\u001b[0m\u001b[1;38;2;138;66;54m0\u001b[0m\u001b[38;2;138;66;54m. \u001b[0m\u001b[1;38;2;138;66;54m0\u001b[0m\u001b[38;2;138;66;54m. \u001b[0m\u001b[1;38;2;138;66;54m1\u001b[0m\u001b[38;2;138;66;54m. \u001b[0m\u001b[1;38;2;138;66;54m1\u001b[0m\u001b[38;2;138;66;54m.\u001b[0m\u001b[1;38;2;138;66;54m]\u001b[0m\n",
              "\u001b[38;2;138;66;54m \u001b[0m\u001b[1;38;2;138;66;54m[\u001b[0m\u001b[1;38;2;138;66;54m0\u001b[0m\u001b[38;2;138;66;54m. \u001b[0m\u001b[1;38;2;138;66;54m0\u001b[0m\u001b[38;2;138;66;54m. \u001b[0m\u001b[1;38;2;138;66;54m0\u001b[0m\u001b[38;2;138;66;54m. \u001b[0m\u001b[1;38;2;138;66;54m1\u001b[0m\u001b[38;2;138;66;54m.\u001b[0m\u001b[1;38;2;138;66;54m]\u001b[0m\u001b[1;38;2;138;66;54m]\u001b[0m\n"
            ],
            "text/html": [
              "<pre style=\"white-space:pre;overflow-x:auto;line-height:normal;font-family:Menlo,'DejaVu Sans Mono',consolas,'Courier New',monospace\"><span style=\"color: #8a4236; text-decoration-color: #8a4236; font-weight: bold\">[[</span><span style=\"color: #8a4236; text-decoration-color: #8a4236; font-weight: bold\">1</span><span style=\"color: #8a4236; text-decoration-color: #8a4236\">. </span><span style=\"color: #8a4236; text-decoration-color: #8a4236; font-weight: bold\">1</span><span style=\"color: #8a4236; text-decoration-color: #8a4236\">. </span><span style=\"color: #8a4236; text-decoration-color: #8a4236; font-weight: bold\">1</span><span style=\"color: #8a4236; text-decoration-color: #8a4236\">. </span><span style=\"color: #8a4236; text-decoration-color: #8a4236; font-weight: bold\">1</span><span style=\"color: #8a4236; text-decoration-color: #8a4236\">.</span><span style=\"color: #8a4236; text-decoration-color: #8a4236; font-weight: bold\">]</span>\n",
              "<span style=\"color: #8a4236; text-decoration-color: #8a4236\"> </span><span style=\"color: #8a4236; text-decoration-color: #8a4236; font-weight: bold\">[</span><span style=\"color: #8a4236; text-decoration-color: #8a4236; font-weight: bold\">0</span><span style=\"color: #8a4236; text-decoration-color: #8a4236\">. </span><span style=\"color: #8a4236; text-decoration-color: #8a4236; font-weight: bold\">1</span><span style=\"color: #8a4236; text-decoration-color: #8a4236\">. </span><span style=\"color: #8a4236; text-decoration-color: #8a4236; font-weight: bold\">1</span><span style=\"color: #8a4236; text-decoration-color: #8a4236\">. </span><span style=\"color: #8a4236; text-decoration-color: #8a4236; font-weight: bold\">1</span><span style=\"color: #8a4236; text-decoration-color: #8a4236\">.</span><span style=\"color: #8a4236; text-decoration-color: #8a4236; font-weight: bold\">]</span>\n",
              "<span style=\"color: #8a4236; text-decoration-color: #8a4236\"> </span><span style=\"color: #8a4236; text-decoration-color: #8a4236; font-weight: bold\">[</span><span style=\"color: #8a4236; text-decoration-color: #8a4236; font-weight: bold\">0</span><span style=\"color: #8a4236; text-decoration-color: #8a4236\">. </span><span style=\"color: #8a4236; text-decoration-color: #8a4236; font-weight: bold\">0</span><span style=\"color: #8a4236; text-decoration-color: #8a4236\">. </span><span style=\"color: #8a4236; text-decoration-color: #8a4236; font-weight: bold\">1</span><span style=\"color: #8a4236; text-decoration-color: #8a4236\">. </span><span style=\"color: #8a4236; text-decoration-color: #8a4236; font-weight: bold\">1</span><span style=\"color: #8a4236; text-decoration-color: #8a4236\">.</span><span style=\"color: #8a4236; text-decoration-color: #8a4236; font-weight: bold\">]</span>\n",
              "<span style=\"color: #8a4236; text-decoration-color: #8a4236\"> </span><span style=\"color: #8a4236; text-decoration-color: #8a4236; font-weight: bold\">[</span><span style=\"color: #8a4236; text-decoration-color: #8a4236; font-weight: bold\">0</span><span style=\"color: #8a4236; text-decoration-color: #8a4236\">. </span><span style=\"color: #8a4236; text-decoration-color: #8a4236; font-weight: bold\">0</span><span style=\"color: #8a4236; text-decoration-color: #8a4236\">. </span><span style=\"color: #8a4236; text-decoration-color: #8a4236; font-weight: bold\">0</span><span style=\"color: #8a4236; text-decoration-color: #8a4236\">. </span><span style=\"color: #8a4236; text-decoration-color: #8a4236; font-weight: bold\">1</span><span style=\"color: #8a4236; text-decoration-color: #8a4236\">.</span><span style=\"color: #8a4236; text-decoration-color: #8a4236; font-weight: bold\">]]</span>\n",
              "</pre>\n"
            ]
          },
          "metadata": {}
        }
      ]
    }
  ]
}